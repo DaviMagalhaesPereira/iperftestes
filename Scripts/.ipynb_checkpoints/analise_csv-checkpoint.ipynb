{
 "cells": [
  {
   "cell_type": "code",
   "execution_count": 1,
   "metadata": {},
   "outputs": [],
   "source": [
    "import pandas as pd\n",
    "import scipy.stats as st\n",
    "import numpy as np\n",
    "import matplotlib.pyplot as plt\n",
    "%matplotlib inline"
   ]
  },
  {
   "cell_type": "code",
   "execution_count": 2,
   "metadata": {},
   "outputs": [
    {
     "data": {
      "image/png": "[encoded data removed]",
      "text/plain": [
       "<Figure size 432x288 with 1 Axes>"
      ]
     },
     "metadata": {},
     "output_type": "display_data"
    }
   ],
   "source": [
    "#df = pd.read_csv(\"iperf.csv\", index_col = [1])\n",
    "df = pd.read_csv(\"../Saidas/Teste6/teste6.csv\")\n",
    "#Remove colunas desnecessarias\n",
    "del df['Timestamp']\n",
    "del df['?']\n",
    "del df['Tempo']\n",
    "\n",
    "dfServer = df[df.IpOri == '10.1.0.1']\n",
    "dfCliente = df[df.IpOri == '10.1.0.2']\n",
    "#df = dfServer\n",
    "#df = df.reset_index(drop=True)\n",
    "del dfCliente['Jitter']\n",
    "del dfCliente['PctPerdido']\n",
    "del dfCliente['PctEnv']\n",
    "del dfCliente['%Perda']\n",
    "del dfCliente['ForaOrdem']\n",
    "\n",
    "#Pegando informacoes para grafico de bloqueados (APENAS PARA O MODO DE PAR/IMPAR)\n",
    "bloqueados = []\n",
    "\n",
    "dfInfo = pd.read_csv(\"../Saidas/Teste6/iperfs.txt\", sep=\"\\t\")\n",
    "listaPortas = dfInfo['PCli'].tolist()\n",
    "listaPortasServer = dfServer['PortaDest'].tolist()\n",
    "for porta in listaPortas:\n",
    "    if (porta not in listaPortasServer):\n",
    "        bloqueados.append(porta)\n",
    "\n",
    "taxaBloqueio = len(bloqueados)/float(len(listaPortas))*100\n",
    "        \n",
    "colunas = ('Metodo Par/Impar', 'Metodo SW/HW')\n",
    "posicao = np.arange(len(colunas))\n",
    "barras = [taxaBloqueio, 0]\n",
    "\n",
    "plt.bar(posicao, barras, align='center', alpha=0.8)\n",
    "plt.xticks(posicao, colunas)\n",
    "plt.ylabel('Taxa de bloqueio (%)')\n",
    "plt.title('Porcentagem de trafegos bloqueados em cada metodo')\n",
    "plt.show()"
   ]
  },
  {
   "cell_type": "code",
   "execution_count": 13,
   "metadata": {},
   "outputs": [
    {
     "ename": "ValueError",
     "evalue": "The truth value of a Series is ambiguous. Use a.empty, a.bool(), a.item(), a.any() or a.all().",
     "output_type": "error",
     "traceback": [
      "\u001b[0;31m---------------------------------------------------------------------------\u001b[0m",
      "\u001b[0;31mValueError\u001b[0m                                Traceback (most recent call last)",
      "\u001b[0;32m<ipython-input-13-7f4004235d0d>\u001b[0m in \u001b[0;36m<module>\u001b[0;34m()\u001b[0m\n\u001b[1;32m     26\u001b[0m \u001b[0;31m#Dividindo por switch em cada metodo\u001b[0m\u001b[0;34m\u001b[0m\u001b[0;34m\u001b[0m\u001b[0m\n\u001b[1;32m     27\u001b[0m \u001b[0mhwParImpar\u001b[0m \u001b[0;34m=\u001b[0m \u001b[0mdfParImpar\u001b[0m\u001b[0;34m[\u001b[0m\u001b[0mdfParImpar\u001b[0m\u001b[0;34m.\u001b[0m\u001b[0mPortaOri\u001b[0m \u001b[0;34m%\u001b[0m\u001b[0;36m2\u001b[0m \u001b[0;34m==\u001b[0m \u001b[0;36m0\u001b[0m\u001b[0;34m]\u001b[0m\u001b[0;34m\u001b[0m\u001b[0m\n\u001b[0;32m---> 28\u001b[0;31m \u001b[0mhwParImpar\u001b[0m \u001b[0;34m=\u001b[0m \u001b[0mhwParImpar\u001b[0m\u001b[0;34m[\u001b[0m\u001b[0mdfParImpar\u001b[0m\u001b[0;34m.\u001b[0m\u001b[0mPortaOri\u001b[0m \u001b[0;32mnot\u001b[0m \u001b[0;32min\u001b[0m \u001b[0mportasEstaveisPar\u001b[0m\u001b[0;34m]\u001b[0m\u001b[0;34m\u001b[0m\u001b[0m\n\u001b[0m\u001b[1;32m     29\u001b[0m \u001b[0;31m#for index, row in hwParImpar.iterrows():\u001b[0m\u001b[0;34m\u001b[0m\u001b[0;34m\u001b[0m\u001b[0m\n\u001b[1;32m     30\u001b[0m     \u001b[0;31m#if(row['PortaDest'] not in portasEstaveisPar):\u001b[0m\u001b[0;34m\u001b[0m\u001b[0;34m\u001b[0m\u001b[0m\n",
      "\u001b[0;32m/home/pedro/anaconda2/lib/python2.7/site-packages/pandas/core/generic.pyc\u001b[0m in \u001b[0;36m__nonzero__\u001b[0;34m(self)\u001b[0m\n\u001b[1;32m   1571\u001b[0m         raise ValueError(\"The truth value of a {0} is ambiguous. \"\n\u001b[1;32m   1572\u001b[0m                          \u001b[0;34m\"Use a.empty, a.bool(), a.item(), a.any() or a.all().\"\u001b[0m\u001b[0;34m\u001b[0m\u001b[0m\n\u001b[0;32m-> 1573\u001b[0;31m                          .format(self.__class__.__name__))\n\u001b[0m\u001b[1;32m   1574\u001b[0m \u001b[0;34m\u001b[0m\u001b[0m\n\u001b[1;32m   1575\u001b[0m     \u001b[0m__bool__\u001b[0m \u001b[0;34m=\u001b[0m \u001b[0m__nonzero__\u001b[0m\u001b[0;34m\u001b[0m\u001b[0m\n",
      "\u001b[0;31mValueError\u001b[0m: The truth value of a Series is ambiguous. Use a.empty, a.bool(), a.item(), a.any() or a.all()."
     ]
    }
   ],
   "source": [
    "dfParImpar = pd.read_csv(\"../Saidas/Teste6/teste6.csv\")\n",
    "dfSWHW = pd.read_csv(\"../Saidas/Teste5/teste5.csv\")\n",
    "#Remove colunas desnecessarias\n",
    "del dfParImpar['Timestamp']\n",
    "del dfParImpar['?']\n",
    "del dfParImpar['Tempo']\n",
    "del dfSWHW['Timestamp']\n",
    "del dfSWHW['?']\n",
    "del dfSWHW['Tempo']\n",
    "\n",
    "#Dividindo por metodo\n",
    "dfServerParImpar = dfParImpar[dfParImpar.IpOri == '10.1.0.1']\n",
    "dfServerSWHW = dfSWHW[dfSWHW.IpOri == '10.1.0.1']\n",
    "\n",
    "#Pegando trafego no periodo estavel (150-250 segundos)\n",
    "dfInfo = pd.read_csv(\"../Saidas/Teste6/iperfs.txt\", sep=\"\\t\")\n",
    "portasEstaveisPar = []\n",
    "portasEstaveisImpar = []\n",
    "for index, row in dfInfo.iterrows():\n",
    "    if (row['Inicio(seg)'] > 130 and row['Inicio(seg)'] <= 250):\n",
    "        if(row['PCli'] %2 == 0):\n",
    "            portasEstaveisPar.append(int(row['PCli']))\n",
    "        else:\n",
    "            portasEstaveisImpar.append(int(row['PCli']))\n",
    "        \n",
    "#Dividindo por switch em cada metodo\n",
    "hwParImpar = dfParImpar[dfParImpar.PortaOri %2 == 0]\n",
    "for index, row in hwParImpar.iterrows():\n",
    "    if(row['PortaDest'] not in portasEstaveisPar):\n",
    "        hwParImpar = hwParImpar[dfParImpar.PortaOri != row['PortaDest']]\n",
    "\n",
    "#print hwParImpar\n",
    "swParImpar = dfParImpar[dfParImpar.PortaOri %2 != 0]\n",
    "hwSWHW = dfSWHW[dfSWHW.PortaOri %2 == 0]\n",
    "swSWHW = dfSWHW[dfSWHW.PortaOri %2 != 0]\n",
    "\n",
    "listaSW = [swParImpar['BitsEnv'].sum(), swSWHW['BitsEnv'].sum()]\n",
    "listaHW = [hwParImpar['BitsEnv'].sum(), hwSWHW['BitsEnv'].sum()]\n",
    "\n",
    "n_groups = 2\n",
    "# create plot\n",
    "fig, ax = plt.subplots()\n",
    "index = np.arange(n_groups)\n",
    "bar_width = 0.35\n",
    "opacity = 0.8\n",
    "\n",
    "rects1 = plt.bar(index, listaSW, bar_width, alpha=opacity, color='b', label='Switch SW')\n",
    "rects2 = plt.bar(index + bar_width, listaHW, bar_width, alpha=opacity, color='g', label='Switch HW')\n",
    "\n",
    "plt.xlabel('Metodos')\n",
    "plt.ylabel('Soma de bits enviados')\n",
    "plt.title('Vazao por switch em cada metodo')\n",
    "plt.xticks(index + bar_width/2, ('Par/Impar', 'SW/HW'))\n",
    "plt.legend()\n",
    "fig = plt.gcf()\n",
    "fig.set_size_inches(12, 7)\n",
    "#fig.savefig('test2png.png', dpi=100)\n",
    "#plt.tight_layout()\n",
    "plt.show()"
   ]
  },
  {
   "cell_type": "code",
   "execution_count": 4,
   "metadata": {},
   "outputs": [
    {
     "ename": "NameError",
     "evalue": "name 'confinterval' is not defined",
     "output_type": "error",
     "traceback": [
      "\u001b[0;31m---------------------------------------------------------------------------\u001b[0m",
      "\u001b[0;31mNameError\u001b[0m                                 Traceback (most recent call last)",
      "\u001b[0;32m<ipython-input-4-5a47b8ac74b1>\u001b[0m in \u001b[0;36m<module>\u001b[0;34m()\u001b[0m\n\u001b[1;32m      4\u001b[0m \u001b[0mgpb\u001b[0m \u001b[0;34m=\u001b[0m \u001b[0mdf\u001b[0m\u001b[0;34m.\u001b[0m\u001b[0mgroupby\u001b[0m \u001b[0;34m(\u001b[0m\u001b[0;34m[\u001b[0m\u001b[0;34m'PortaOri'\u001b[0m\u001b[0;34m]\u001b[0m\u001b[0;34m)\u001b[0m\u001b[0;34m\u001b[0m\u001b[0m\n\u001b[1;32m      5\u001b[0m \u001b[0mmedia\u001b[0m \u001b[0;34m=\u001b[0m \u001b[0mgpb\u001b[0m\u001b[0;34m.\u001b[0m\u001b[0mmean\u001b[0m\u001b[0;34m(\u001b[0m\u001b[0;34m)\u001b[0m\u001b[0;34m\u001b[0m\u001b[0m\n\u001b[0;32m----> 6\u001b[0;31m \u001b[0merr\u001b[0m \u001b[0;34m=\u001b[0m \u001b[0mgpb\u001b[0m\u001b[0;34m.\u001b[0m\u001b[0maggregate\u001b[0m\u001b[0;34m(\u001b[0m\u001b[0mconfinterval\u001b[0m\u001b[0;34m)\u001b[0m\u001b[0;34m\u001b[0m\u001b[0m\n\u001b[0m\u001b[1;32m      7\u001b[0m \u001b[0merr\u001b[0m \u001b[0;34m=\u001b[0m \u001b[0merr\u001b[0m\u001b[0;34m.\u001b[0m\u001b[0mfilter\u001b[0m\u001b[0;34m(\u001b[0m\u001b[0mitems\u001b[0m\u001b[0;34m=\u001b[0m\u001b[0;34m[\u001b[0m\u001b[0;34m'Banda'\u001b[0m\u001b[0;34m,\u001b[0m \u001b[0;34m'BitsEnv'\u001b[0m\u001b[0;34m]\u001b[0m\u001b[0;34m)\u001b[0m\u001b[0;34m\u001b[0m\u001b[0m\n\u001b[1;32m      8\u001b[0m \u001b[0mmedia\u001b[0m \u001b[0;34m=\u001b[0m \u001b[0mmedia\u001b[0m\u001b[0;34m.\u001b[0m\u001b[0mfilter\u001b[0m\u001b[0;34m(\u001b[0m\u001b[0mitems\u001b[0m\u001b[0;34m=\u001b[0m\u001b[0;34m[\u001b[0m\u001b[0;34m'Banda'\u001b[0m\u001b[0;34m,\u001b[0m \u001b[0;34m'BitsEnv'\u001b[0m\u001b[0;34m]\u001b[0m\u001b[0;34m)\u001b[0m\u001b[0;34m\u001b[0m\u001b[0m\n",
      "\u001b[0;31mNameError\u001b[0m: name 'confinterval' is not defined"
     ]
    }
   ],
   "source": [
    "#Removendo trafegos pequenos\n",
    "df = df.query(\"BitsEnv > 1000000\")\n",
    "\n",
    "gpb = df.groupby (['PortaOri'])\n",
    "media = gpb.mean()\n",
    "err = gpb.aggregate(confinterval)\n",
    "err = err.filter(items=['Banda', 'BitsEnv'])\n",
    "media = media.filter(items=['Banda', 'BitsEnv'])\n",
    "#display (media)\n",
    "#display (err)\n",
    "\n",
    "media.sort_values(by=[\"BitsEnv\"]).plot (kind='bar', yerr=err, title=\"Teste\", rot=360, figsize=(20,10))\n",
    "plt.xlabel('Bits enviados')\n",
    "plt.ylabel('Banda')\n",
    "plt.gca().legend(('Bits enviados','Banda'))\n",
    "#plt.savefig('grafico_teste'.pdf')"
   ]
  },
  {
   "cell_type": "code",
   "execution_count": null,
   "metadata": {},
   "outputs": [],
   "source": []
  }
 ],
 "metadata": {
  "kernelspec": {
   "display_name": "Python 2",
   "language": "python",
   "name": "python2"
  },
  "language_info": {
   "codemirror_mode": {
    "name": "ipython",
    "version": 2
   },
   "file_extension": ".py",
   "mimetype": "text/x-python",
   "name": "python",
   "nbconvert_exporter": "python",
   "pygments_lexer": "ipython2",
   "version": "2.7.15"
  }
 },
 "nbformat": 4,
 "nbformat_minor": 4
}
