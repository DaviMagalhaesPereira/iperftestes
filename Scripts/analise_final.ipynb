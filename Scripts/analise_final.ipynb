{
 "cells": [
  {
   "cell_type": "code",
   "execution_count": 1,
   "metadata": {},
   "outputs": [],
   "source": [
    "import pandas as pd\n",
    "import scipy.stats as st\n",
    "import numpy as np\n",
    "import matplotlib.pyplot as plt\n",
    "import statsmodels.api as sm\n",
    "%matplotlib inline"
   ]
  },
  {
   "cell_type": "code",
   "execution_count": 2,
   "metadata": {},
   "outputs": [],
   "source": [
    "testesPI = [\"9\"]\n",
    "testesSW = [\"10\"]\n",
    "tempos = [\"015\", \"025\"]\n",
    "temposExp = [\"399\"]\n",
    "seeds = [\"10\"]\n",
    "quantidadeIperfs = 2500\n",
    "salvarGraficos = False\n",
    "#0.15 ini=150 fim=250\n",
    "#0.25 ini=200 fim=550\n",
    "#0.35 ini=200 fim=800\n",
    "iniEstavel = 200\n",
    "fimEstavel = 550"
   ]
  },
  {
   "cell_type": "code",
   "execution_count": 3,
   "metadata": {},
   "outputs": [],
   "source": [
    "#Carregando todos os arquivos para grafico de bloqueados\n",
    "dfPI015 = []\n",
    "dfPI025 = []\n",
    "dfPI035 = []\n",
    "dfSW015 = []\n",
    "dfSW025 = []\n",
    "dfSW035 = []\n",
    "for i in range(len(seeds)):\n",
    "    dfPI015.append(pd.read_csv(\"../Saidas/teste\"+(str(i+1))+\"_pi015/info_parimpar.txt\", sep=\" \"))\n",
    "    dfPI025.append(pd.read_csv(\"../Saidas/teste\"+(str(i+1))+\"_pi025/info_parimpar.txt\", sep=\" \"))\n",
    "    dfPI035.append(pd.read_csv(\"../Saidas/teste\"+(str(i+1))+\"_pi035/info_parimpar.txt\", sep=\" \"))\n",
    "    dfSW015.append(pd.read_csv(\"../Saidas/teste\"+(str(i+1))+\"_sw015/info_sw.txt\", sep=\" \"))\n",
    "    dfSW025.append(pd.read_csv(\"../Saidas/teste\"+(str(i+1))+\"_sw025/info_sw.txt\", sep=\" \"))\n",
    "    dfSW035.append(pd.read_csv(\"../Saidas/teste\"+(str(i+1))+\"_sw035/info_sw.txt\", sep=\" \"))\n",
    "#Carregando todos os arquivos csv"
   ]
  },
  {
   "cell_type": "code",
   "execution_count": 8,
   "metadata": {},
   "outputs": [
    {
     "data": {
      "image/png": "[encoded data removed]",
      "text/plain": [
       "<Figure size 864x504 with 1 Axes>"
      ]
     },
     "metadata": {},
     "output_type": "display_data"
    }
   ],
   "source": [
    "#Trafegos bloqueados\n",
    "\n",
    "#Pegando a porcentagem de bloqueio em cada teste\n",
    "taxaBloqueioPI015 = []\n",
    "taxaBloqueioPI025 = []\n",
    "taxaBloqueioPI035 = []\n",
    "taxaBloqueioSW015 = []\n",
    "taxaBloqueioSW025 = []\n",
    "taxaBloqueioSW035 = []\n",
    "#Divide por 2 porque é a quantidade de trafegos bloqueados, nao regras\n",
    "for df in dfPI015:\n",
    "    taxaBloqueioPI015.append(df['RegrasBloqueadas'].max())\n",
    "taxaBloqueioPI015 = (np.mean(taxaBloqueioPI015)/2/float(quantidadeIperfs))*100\n",
    "for df in dfPI025:\n",
    "    taxaBloqueioPI025.append(df['RegrasBloqueadas'].max())\n",
    "taxaBloqueioPI025 = (np.mean(taxaBloqueioPI025)/2/float(quantidadeIperfs))*100\n",
    "for df in dfPI035:\n",
    "    taxaBloqueioPI035.append(df['RegrasBloqueadas'].max())\n",
    "taxaBloqueioPI035 = (np.mean(taxaBloqueioPI035)/2/float(quantidadeIperfs))*100\n",
    "\n",
    "for df in dfSW015:\n",
    "    taxaBloqueioSW015.append(df['VezesBloqueado'].max())\n",
    "taxaBloqueioSW015 = (np.mean(taxaBloqueioSW015)/2/float(quantidadeIperfs))*100\n",
    "for df in dfSW025:\n",
    "    taxaBloqueioSW025.append(df['VezesBloqueado'].max())\n",
    "taxaBloqueioSW025 = (np.mean(taxaBloqueioSW025)/2/float(quantidadeIperfs))*100\n",
    "for df in dfSW035:\n",
    "    taxaBloqueioSW035.append(df['VezesBloqueado'].max())\n",
    "taxaBloqueioSW035 = (np.mean(taxaBloqueioSW035)/2/float(quantidadeIperfs))*100\n",
    "\n",
    "listaPI = [taxaBloqueioPI015, taxaBloqueioPI025, taxaBloqueioPI035]\n",
    "listaSW = [taxaBloqueioSW015, taxaBloqueioSW025, taxaBloqueioSW035]\n",
    "n_groups = 3\n",
    "# create plot\n",
    "fig, ax = plt.subplots()\n",
    "index = np.arange(n_groups)\n",
    "bar_width = 0.35\n",
    "opacity = 0.8\n",
    "\n",
    "rects1 = plt.bar(index, listaPI, bar_width, alpha=opacity, label='Metodo Par/Impar')\n",
    "rects2 = plt.bar(index + bar_width, listaSW, bar_width, alpha=opacity, label='Metodo SW/HW')\n",
    "\n",
    "plt.xlabel('Tempo medio entre o inicio de cada iperf')\n",
    "plt.ylabel('Taxa de bloqueio (%)')\n",
    "plt.title('Taxa de bloqueio em cada metodo')\n",
    "plt.xticks(index + bar_width/2, ('0.15', '0.25', '0.35'))\n",
    "plt.legend()\n",
    "fig = plt.gcf()\n",
    "fig.set_size_inches(12, 7)\n",
    "plt.tight_layout()\n",
    "if (salvarGraficos):\n",
    "    plt.savefig('taxaBloqueio.pdf')\n",
    "plt.show()"
   ]
  },
  {
   "cell_type": "code",
   "execution_count": null,
   "metadata": {},
   "outputs": [],
   "source": [
    "#Pacotes fora de ordem\n",
    "a = dfServerSWHW['ForaOrdem'].tolist()\n",
    "b = dfServerParImpar['ForaOrdem'].tolist()\n",
    "\n",
    "#CDF dos pacotes fora de ordem\n",
    "x = np.sort(a)\n",
    "x1 = np.sort(b)\n",
    "\n",
    "ecdf = sm.distributions.ECDF(a)\n",
    "ecdf1 = sm.distributions.ECDF(b)\n",
    "\n",
    "y = ecdf(x)\n",
    "y1 = ecdf1(x1)\n",
    "\n",
    "#HW\n",
    "plt.step(x, y, where='post')\n",
    "plt.ylabel(r'$P(X \\leq x)$')\n",
    "plt.xlabel(r'Pacotes fora de ordem metodo SW/HW')\n",
    "if (salvarGraficos):\n",
    "    plt.savefig('foraOrdem_teste'+numSW+'.pdf')\n",
    "plt.show()\n",
    "\n",
    "#Par impar\n",
    "plt.step(x1, y1, where='post')\n",
    "plt.ylabel(r'$P(X \\leq x)$')\n",
    "plt.xlabel(r'Pacotes fora de ordem metodo Par/Impar')\n",
    "if (salvarGraficos):\n",
    "    plt.savefig('foraOrdem_teste'+numParImpar+'.pdf')\n",
    "plt.show()"
   ]
  }
 ],
 "metadata": {
  "kernelspec": {
   "display_name": "Python 2",
   "language": "python",
   "name": "python2"
  },
  "language_info": {
   "codemirror_mode": {
    "name": "ipython",
    "version": 2
   },
   "file_extension": ".py",
   "mimetype": "text/x-python",
   "name": "python",
   "nbconvert_exporter": "python",
   "pygments_lexer": "ipython2",
   "version": "2.7.15"
  }
 },
 "nbformat": 4,
 "nbformat_minor": 4
}
