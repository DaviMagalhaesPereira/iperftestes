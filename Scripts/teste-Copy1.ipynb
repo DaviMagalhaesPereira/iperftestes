{
 "cells": [
  {
   "cell_type": "code",
   "execution_count": 1,
   "metadata": {},
   "outputs": [],
   "source": [
    "import pandas as pd\n",
    "import scipy.stats as st\n",
    "import numpy as np\n",
    "import matplotlib.pyplot as plt\n",
    "import statsmodels.api as sm\n",
    "%matplotlib inline\n",
    "import seaborn as sns"
   ]
  },
  {
   "cell_type": "code",
   "execution_count": 2,
   "metadata": {},
   "outputs": [
    {
     "name": "stdout",
     "output_type": "stream",
     "text": [
      "14521768473\n",
      "17799982286\n"
     ]
    },
    {
     "data": {
      "text/html": [
       "<div>\n",
       "<style scoped>\n",
       "    .dataframe tbody tr th:only-of-type {\n",
       "        vertical-align: middle;\n",
       "    }\n",
       "\n",
       "    .dataframe tbody tr th {\n",
       "        vertical-align: top;\n",
       "    }\n",
       "\n",
       "    .dataframe thead th {\n",
       "        text-align: right;\n",
       "    }\n",
       "</style>\n",
       "<table border=\"1\" class=\"dataframe\">\n",
       "  <thead>\n",
       "    <tr style=\"text-align: right;\">\n",
       "      <th></th>\n",
       "      <th>Tempo</th>\n",
       "      <th>RegrasInstaladas</th>\n",
       "      <th>RegrasAceitas</th>\n",
       "      <th>RegrasBloqueadas</th>\n",
       "      <th>BytesEnviados</th>\n",
       "    </tr>\n",
       "    <tr>\n",
       "      <th>Switch</th>\n",
       "      <th></th>\n",
       "      <th></th>\n",
       "      <th></th>\n",
       "      <th></th>\n",
       "      <th></th>\n",
       "    </tr>\n",
       "  </thead>\n",
       "  <tbody>\n",
       "    <tr>\n",
       "      <th>HW</th>\n",
       "      <td>378</td>\n",
       "      <td>201</td>\n",
       "      <td>1111</td>\n",
       "      <td>854</td>\n",
       "      <td>5270525064</td>\n",
       "    </tr>\n",
       "    <tr>\n",
       "      <th>SW</th>\n",
       "      <td>375</td>\n",
       "      <td>459</td>\n",
       "      <td>2540</td>\n",
       "      <td>0</td>\n",
       "      <td>9251243409</td>\n",
       "    </tr>\n",
       "  </tbody>\n",
       "</table>\n",
       "</div>"
      ],
      "text/plain": [
       "        Tempo  RegrasInstaladas  RegrasAceitas  RegrasBloqueadas  \\\n",
       "Switch                                                             \n",
       "HW        378               201           1111               854   \n",
       "SW        375               459           2540                 0   \n",
       "\n",
       "        BytesEnviados  \n",
       "Switch                 \n",
       "HW         5270525064  \n",
       "SW         9251243409  "
      ]
     },
     "execution_count": 2,
     "metadata": {},
     "output_type": "execute_result"
    }
   ],
   "source": [
    "dfPI = pd.read_csv(\"../Saidas/teste2_pi010/info_parimpar.txt\", sep=\" \")\n",
    "dfSW = pd.read_csv(\"../Saidas/teste2_sw010/info_sw.txt\", sep=\" \")\n",
    "gpbPI = dfPI.groupby([\"Switch\"]).max()\n",
    "gpbSW = dfSW.groupby([\"Switch\"]).max()\n",
    "print (gpbPI['BytesEnviados'].sum())\n",
    "print (gpbSW['BytesEnviados'].sum())\n",
    "gpbPI.head()\n",
    "#print (dfPI['BytesEnviados'].max())\n",
    "#print (dfSW['BytesEnviados'].max())"
   ]
  },
  {
   "cell_type": "code",
   "execution_count": 3,
   "metadata": {},
   "outputs": [
    {
     "data": {
      "text/html": [
       "<div>\n",
       "<style scoped>\n",
       "    .dataframe tbody tr th:only-of-type {\n",
       "        vertical-align: middle;\n",
       "    }\n",
       "\n",
       "    .dataframe tbody tr th {\n",
       "        vertical-align: top;\n",
       "    }\n",
       "\n",
       "    .dataframe thead th {\n",
       "        text-align: right;\n",
       "    }\n",
       "</style>\n",
       "<table border=\"1\" class=\"dataframe\">\n",
       "  <thead>\n",
       "    <tr style=\"text-align: right;\">\n",
       "      <th></th>\n",
       "      <th>Tempo</th>\n",
       "      <th>RegrasInstaladas</th>\n",
       "      <th>RegrasAceitas</th>\n",
       "      <th>VezesBloqueado</th>\n",
       "      <th>BytesEnviados</th>\n",
       "    </tr>\n",
       "    <tr>\n",
       "      <th>Switch</th>\n",
       "      <th></th>\n",
       "      <th></th>\n",
       "      <th></th>\n",
       "      <th></th>\n",
       "      <th></th>\n",
       "    </tr>\n",
       "  </thead>\n",
       "  <tbody>\n",
       "    <tr>\n",
       "      <th>HW</th>\n",
       "      <td>386</td>\n",
       "      <td>195</td>\n",
       "      <td>1359</td>\n",
       "      <td>0</td>\n",
       "      <td>9662209200</td>\n",
       "    </tr>\n",
       "    <tr>\n",
       "      <th>SW</th>\n",
       "      <td>388</td>\n",
       "      <td>771</td>\n",
       "      <td>5037</td>\n",
       "      <td>0</td>\n",
       "      <td>8137773086</td>\n",
       "    </tr>\n",
       "  </tbody>\n",
       "</table>\n",
       "</div>"
      ],
      "text/plain": [
       "        Tempo  RegrasInstaladas  RegrasAceitas  VezesBloqueado  BytesEnviados\n",
       "Switch                                                                       \n",
       "HW        386               195           1359               0     9662209200\n",
       "SW        388               771           5037               0     8137773086"
      ]
     },
     "execution_count": 3,
     "metadata": {},
     "output_type": "execute_result"
    }
   ],
   "source": [
    "gpbSW.head()"
   ]
  },
  {
   "cell_type": "code",
   "execution_count": 4,
   "metadata": {},
   "outputs": [
    {
     "name": "stdout",
     "output_type": "stream",
     "text": [
      "12093238710\n",
      "17932863690\n"
     ]
    },
    {
     "data": {
      "text/plain": [
       "1         139650\n",
       "3        2203530\n",
       "5          58800\n",
       "7        1697850\n",
       "9         467460\n",
       "11       1200990\n",
       "13       1014300\n",
       "15       4787790\n",
       "17       1831620\n",
       "19       2701860\n",
       "21       9005220\n",
       "23         16170\n",
       "26        291060\n",
       "27        355740\n",
       "29        976080\n",
       "31        848190\n",
       "33         89670\n",
       "35         33810\n",
       "37       3385410\n",
       "39       3866100\n",
       "41        363090\n",
       "43       1586130\n",
       "45        996660\n",
       "47       1336230\n",
       "49       1070160\n",
       "51        793800\n",
       "53        989310\n",
       "55       2579850\n",
       "57        385140\n",
       "59       2163840\n",
       "          ...   \n",
       "4078      135240\n",
       "4080     7056000\n",
       "4083     4549650\n",
       "4085      630630\n",
       "4087    15033690\n",
       "4089      865830\n",
       "4091     5387550\n",
       "4095     3232530\n",
       "4098     3874920\n",
       "4100    10298820\n",
       "4102     1952160\n",
       "4105      227850\n",
       "4107      839370\n",
       "4110     5302290\n",
       "4112    13928250\n",
       "4114      223440\n",
       "4116     4318860\n",
       "4118     4063080\n",
       "4120    35215320\n",
       "4123    10672200\n",
       "4125     3242820\n",
       "4127    25206090\n",
       "4129    12894840\n",
       "4131     6138720\n",
       "4134    17547390\n",
       "4136     3072300\n",
       "4138     8886150\n",
       "4140    21078330\n",
       "4142    16872660\n",
       "4144    25267830\n",
       "Name: BytesEnv, Length: 1647, dtype: int64"
      ]
     },
     "execution_count": 4,
     "metadata": {},
     "output_type": "execute_result"
    }
   ],
   "source": [
    "df2PI = pd.read_csv(\"../Saidas/teste2_pi010/teste2_pi010.csv\")\n",
    "df2SW = pd.read_csv(\"../Saidas/teste2_sw010/teste2_sw010.csv\")\n",
    "df2PI = df2PI[df2PI.IpOri == '10.1.0.1']\n",
    "df2SW = df2SW[df2SW.IpOri == '10.1.0.1']\n",
    "print (df2PI['BytesEnv'].sum())\n",
    "print (df2SW['BytesEnv'].sum())\n",
    "df2PI['BytesEnv']"
   ]
  },
  {
   "cell_type": "code",
   "execution_count": null,
   "metadata": {},
   "outputs": [],
   "source": []
  }
 ],
 "metadata": {
  "kernelspec": {
   "display_name": "Python 3",
   "language": "python",
   "name": "python3"
  },
  "language_info": {
   "codemirror_mode": {
    "name": "ipython",
    "version": 3
   },
   "file_extension": ".py",
   "mimetype": "text/x-python",
   "name": "python",
   "nbconvert_exporter": "python",
   "pygments_lexer": "ipython3",
   "version": "3.7.3"
  }
 },
 "nbformat": 4,
 "nbformat_minor": 4
}
