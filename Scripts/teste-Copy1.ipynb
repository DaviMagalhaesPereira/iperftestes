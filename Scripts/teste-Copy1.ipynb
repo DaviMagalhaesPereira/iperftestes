{
 "cells": [
  {
   "cell_type": "code",
   "execution_count": 1,
   "metadata": {},
   "outputs": [],
   "source": [
    "import pandas as pd\n",
    "import scipy.stats as st\n",
    "import numpy as np\n",
    "import matplotlib.pyplot as plt\n",
    "import statsmodels.api as sm\n",
    "%matplotlib inline\n",
    "import seaborn as sns"
   ]
  },
  {
   "cell_type": "code",
   "execution_count": 20,
   "metadata": {},
   "outputs": [
    {
     "name": "stdout",
     "output_type": "stream",
     "text": [
      "16315825692\n",
      "16930603935\n"
     ]
    },
    {
     "data": {
      "text/html": [
       "<div>\n",
       "<style scoped>\n",
       "    .dataframe tbody tr th:only-of-type {\n",
       "        vertical-align: middle;\n",
       "    }\n",
       "\n",
       "    .dataframe tbody tr th {\n",
       "        vertical-align: top;\n",
       "    }\n",
       "\n",
       "    .dataframe thead th {\n",
       "        text-align: right;\n",
       "    }\n",
       "</style>\n",
       "<table border=\"1\" class=\"dataframe\">\n",
       "  <thead>\n",
       "    <tr style=\"text-align: right;\">\n",
       "      <th></th>\n",
       "      <th>Tempo</th>\n",
       "      <th>RegrasInstaladas</th>\n",
       "      <th>RegrasAceitas</th>\n",
       "      <th>RegrasBloqueadas</th>\n",
       "      <th>BytesEnviados</th>\n",
       "    </tr>\n",
       "    <tr>\n",
       "      <th>Switch</th>\n",
       "      <th></th>\n",
       "      <th></th>\n",
       "      <th></th>\n",
       "      <th></th>\n",
       "      <th></th>\n",
       "    </tr>\n",
       "  </thead>\n",
       "  <tbody>\n",
       "    <tr>\n",
       "      <th>HW</th>\n",
       "      <td>626</td>\n",
       "      <td>200</td>\n",
       "      <td>2218</td>\n",
       "      <td>195</td>\n",
       "      <td>7878784032</td>\n",
       "    </tr>\n",
       "    <tr>\n",
       "      <th>SW</th>\n",
       "      <td>626</td>\n",
       "      <td>241</td>\n",
       "      <td>2588</td>\n",
       "      <td>0</td>\n",
       "      <td>8437041660</td>\n",
       "    </tr>\n",
       "  </tbody>\n",
       "</table>\n",
       "</div>"
      ],
      "text/plain": [
       "        Tempo  RegrasInstaladas  RegrasAceitas  RegrasBloqueadas  \\\n",
       "Switch                                                             \n",
       "HW        626               200           2218               195   \n",
       "SW        626               241           2588                 0   \n",
       "\n",
       "        BytesEnviados  \n",
       "Switch                 \n",
       "HW         7878784032  \n",
       "SW         8437041660  "
      ]
     },
     "execution_count": 20,
     "metadata": {},
     "output_type": "execute_result"
    }
   ],
   "source": [
    "dfPI = pd.read_csv(\"../Saidas/teste1_pi020/info_parimpar.txt\", sep=\" \")\n",
    "dfSW = pd.read_csv(\"../Saidas/teste2_sw020/info_sw.txt\", sep=\" \")\n",
    "gpbPI = dfPI.groupby([\"Switch\"]).max()\n",
    "gpbSW = dfSW.groupby([\"Switch\"]).max()\n",
    "print (gpbPI['BytesEnviados'].sum())\n",
    "print (gpbSW['BytesEnviados'].sum())\n",
    "gpbPI.head()\n",
    "#print (dfPI['BytesEnviados'].max())\n",
    "#print (dfSW['BytesEnviados'].max())"
   ]
  },
  {
   "cell_type": "code",
   "execution_count": 15,
   "metadata": {},
   "outputs": [
    {
     "data": {
      "text/html": [
       "<div>\n",
       "<style scoped>\n",
       "    .dataframe tbody tr th:only-of-type {\n",
       "        vertical-align: middle;\n",
       "    }\n",
       "\n",
       "    .dataframe tbody tr th {\n",
       "        vertical-align: top;\n",
       "    }\n",
       "\n",
       "    .dataframe thead th {\n",
       "        text-align: right;\n",
       "    }\n",
       "</style>\n",
       "<table border=\"1\" class=\"dataframe\">\n",
       "  <thead>\n",
       "    <tr style=\"text-align: right;\">\n",
       "      <th></th>\n",
       "      <th>Tempo</th>\n",
       "      <th>RegrasInstaladas</th>\n",
       "      <th>RegrasAceitas</th>\n",
       "      <th>VezesBloqueado</th>\n",
       "      <th>BytesEnviados</th>\n",
       "    </tr>\n",
       "    <tr>\n",
       "      <th>Switch</th>\n",
       "      <th></th>\n",
       "      <th></th>\n",
       "      <th></th>\n",
       "      <th></th>\n",
       "      <th></th>\n",
       "    </tr>\n",
       "  </thead>\n",
       "  <tbody>\n",
       "    <tr>\n",
       "      <th>HW</th>\n",
       "      <td>661</td>\n",
       "      <td>194</td>\n",
       "      <td>2301</td>\n",
       "      <td>0</td>\n",
       "      <td>12451750920</td>\n",
       "    </tr>\n",
       "    <tr>\n",
       "      <th>SW</th>\n",
       "      <td>660</td>\n",
       "      <td>356</td>\n",
       "      <td>5069</td>\n",
       "      <td>0</td>\n",
       "      <td>4478853015</td>\n",
       "    </tr>\n",
       "  </tbody>\n",
       "</table>\n",
       "</div>"
      ],
      "text/plain": [
       "        Tempo  RegrasInstaladas  RegrasAceitas  VezesBloqueado  BytesEnviados\n",
       "Switch                                                                       \n",
       "HW        661               194           2301               0    12451750920\n",
       "SW        660               356           5069               0     4478853015"
      ]
     },
     "execution_count": 15,
     "metadata": {},
     "output_type": "execute_result"
    }
   ],
   "source": [
    "gpbSW.head()"
   ]
  },
  {
   "cell_type": "code",
   "execution_count": 19,
   "metadata": {},
   "outputs": [
    {
     "name": "stdout",
     "output_type": "stream",
     "text": [
      "15198303540\n",
      "16336414290\n"
     ]
    },
    {
     "data": {
      "text/plain": [
       "1         504210\n",
       "3        2027130\n",
       "5        2523990\n",
       "7        3189900\n",
       "9         530670\n",
       "11        360150\n",
       "14        601230\n",
       "15       1583190\n",
       "17       3129630\n",
       "19        623280\n",
       "21        936390\n",
       "23       3657360\n",
       "25       1133370\n",
       "27         49980\n",
       "29        374850\n",
       "31       4455570\n",
       "33        451290\n",
       "35        601230\n",
       "37        508620\n",
       "39       6084330\n",
       "41       6246030\n",
       "43        201390\n",
       "45       1747830\n",
       "47       4714290\n",
       "49        408660\n",
       "51       2994390\n",
       "53       1105440\n",
       "55       1271550\n",
       "57       1669920\n",
       "59        918750\n",
       "          ...   \n",
       "4741    20228670\n",
       "4743    16652160\n",
       "4745    23131920\n",
       "4747     3282510\n",
       "4749     4268880\n",
       "4751    30703890\n",
       "4753    25060560\n",
       "4755     1127490\n",
       "4757     1024590\n",
       "4759     1396500\n",
       "4761     7536690\n",
       "4763    30133530\n",
       "4767    34123110\n",
       "4769      646800\n",
       "4771     2168250\n",
       "4773     5927040\n",
       "4775     7645470\n",
       "4777      445410\n",
       "4779     4082190\n",
       "4781     5115600\n",
       "4783     2304960\n",
       "4785     7920360\n",
       "4787     8990520\n",
       "4790    23524410\n",
       "4792     9715230\n",
       "4795      488040\n",
       "4798     3517710\n",
       "4800     4778970\n",
       "4802     2763600\n",
       "4804     8384880\n",
       "Name: BytesEnv, Length: 2305, dtype: int64"
      ]
     },
     "execution_count": 19,
     "metadata": {},
     "output_type": "execute_result"
    }
   ],
   "source": [
    "df2PI = pd.read_csv(\"../Saidas/teste1_pi020/teste1_pi020.csv\")\n",
    "df2SW = pd.read_csv(\"../Saidas/teste1_sw020/teste1_sw020.csv\")\n",
    "df2PI = df2PI[df2PI.IpOri == '10.1.0.1']\n",
    "df2SW = df2SW[df2SW.IpOri == '10.1.0.1']\n",
    "print (df2PI['BytesEnv'].sum())\n",
    "print (df2SW['BytesEnv'].sum())\n",
    "df2PI['BytesEnv']"
   ]
  },
  {
   "cell_type": "code",
   "execution_count": null,
   "metadata": {},
   "outputs": [],
   "source": []
  }
 ],
 "metadata": {
  "kernelspec": {
   "display_name": "Python 3",
   "language": "python",
   "name": "python3"
  },
  "language_info": {
   "codemirror_mode": {
    "name": "ipython",
    "version": 3
   },
   "file_extension": ".py",
   "mimetype": "text/x-python",
   "name": "python",
   "nbconvert_exporter": "python",
   "pygments_lexer": "ipython3",
   "version": "3.7.3"
  }
 },
 "nbformat": 4,
 "nbformat_minor": 4
}
