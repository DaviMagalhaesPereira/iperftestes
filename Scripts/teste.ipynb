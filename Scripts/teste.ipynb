{
 "cells": [
  {
   "cell_type": "code",
   "execution_count": 1,
   "metadata": {},
   "outputs": [],
   "source": [
    "import pandas as pd\n",
    "import scipy.stats as st\n",
    "import numpy as np\n",
    "import matplotlib.pyplot as plt\n",
    "import statsmodels.api as sm\n",
    "%matplotlib inline"
   ]
  },
  {
   "cell_type": "code",
   "execution_count": 2,
   "metadata": {},
   "outputs": [],
   "source": [
    "testesPI = [\"9\"]\n",
    "testesSW = [\"10\"]\n",
    "tempos = [\"015\", \"025\", \"035\"]\n",
    "temposExp = [\"399\"]\n",
    "seeds = [\"10\"]\n",
    "quantidadeIperfs = 2500\n",
    "salvarGraficos = False\n",
    "#0.15 ini=150 fim=250\n",
    "#0.25 ini=200 fim=550\n",
    "#0.35 ini=200 fim=800\n",
    "iniEstavel = 200\n",
    "fimEstavel = 550"
   ]
  },
  {
   "cell_type": "code",
   "execution_count": 3,
   "metadata": {},
   "outputs": [
    {
     "data": {
      "text/html": [
       "<div>\n",
       "<style scoped>\n",
       "    .dataframe tbody tr th:only-of-type {\n",
       "        vertical-align: middle;\n",
       "    }\n",
       "\n",
       "    .dataframe tbody tr th {\n",
       "        vertical-align: top;\n",
       "    }\n",
       "\n",
       "    .dataframe thead th {\n",
       "        text-align: right;\n",
       "    }\n",
       "</style>\n",
       "<table border=\"1\" class=\"dataframe\">\n",
       "  <thead>\n",
       "    <tr style=\"text-align: right;\">\n",
       "      <th></th>\n",
       "      <th>Tempo</th>\n",
       "      <th>Switch</th>\n",
       "      <th>RegrasInstaladas</th>\n",
       "      <th>RegrasAceitas</th>\n",
       "      <th>RegrasBloqueadas</th>\n",
       "      <th>BytesEnviados</th>\n",
       "      <th>TempoChegada</th>\n",
       "      <th>Seed</th>\n",
       "    </tr>\n",
       "  </thead>\n",
       "  <tbody>\n",
       "    <tr>\n",
       "      <th>0</th>\n",
       "      <td>8</td>\n",
       "      <td>HW</td>\n",
       "      <td>11</td>\n",
       "      <td>11</td>\n",
       "      <td>0</td>\n",
       "      <td>1378944</td>\n",
       "      <td>015</td>\n",
       "      <td>10</td>\n",
       "    </tr>\n",
       "    <tr>\n",
       "      <th>1</th>\n",
       "      <td>8</td>\n",
       "      <td>SW</td>\n",
       "      <td>13</td>\n",
       "      <td>13</td>\n",
       "      <td>0</td>\n",
       "      <td>1965600</td>\n",
       "      <td>015</td>\n",
       "      <td>10</td>\n",
       "    </tr>\n",
       "    <tr>\n",
       "      <th>2</th>\n",
       "      <td>12</td>\n",
       "      <td>HW</td>\n",
       "      <td>30</td>\n",
       "      <td>30</td>\n",
       "      <td>0</td>\n",
       "      <td>12008304</td>\n",
       "      <td>015</td>\n",
       "      <td>10</td>\n",
       "    </tr>\n",
       "    <tr>\n",
       "      <th>3</th>\n",
       "      <td>12</td>\n",
       "      <td>SW</td>\n",
       "      <td>35</td>\n",
       "      <td>35</td>\n",
       "      <td>0</td>\n",
       "      <td>14262696</td>\n",
       "      <td>015</td>\n",
       "      <td>10</td>\n",
       "    </tr>\n",
       "    <tr>\n",
       "      <th>4</th>\n",
       "      <td>16</td>\n",
       "      <td>HW</td>\n",
       "      <td>40</td>\n",
       "      <td>40</td>\n",
       "      <td>0</td>\n",
       "      <td>37896768</td>\n",
       "      <td>015</td>\n",
       "      <td>10</td>\n",
       "    </tr>\n",
       "  </tbody>\n",
       "</table>\n",
       "</div>"
      ],
      "text/plain": [
       "   Tempo Switch  RegrasInstaladas  RegrasAceitas  RegrasBloqueadas  \\\n",
       "0      8     HW                11             11                 0   \n",
       "1      8     SW                13             13                 0   \n",
       "2     12     HW                30             30                 0   \n",
       "3     12     SW                35             35                 0   \n",
       "4     16     HW                40             40                 0   \n",
       "\n",
       "   BytesEnviados TempoChegada Seed  \n",
       "0        1378944          015   10  \n",
       "1        1965600          015   10  \n",
       "2       12008304          015   10  \n",
       "3       14262696          015   10  \n",
       "4       37896768          015   10  "
      ]
     },
     "execution_count": 3,
     "metadata": {},
     "output_type": "execute_result"
    }
   ],
   "source": [
    "#Lendo os arquivos info (report do controlador)\n",
    "dfPI_info = pd.DataFrame()\n",
    "dfSW_info = pd.DataFrame()\n",
    "i = 1\n",
    "for seed in seeds:\n",
    "    for tempo in tempos:\n",
    "        dfPI_infoTemp = pd.read_csv(\"../Saidas/teste\"+(str(i))+\"_pi\"+(tempo)+\"/info_parimpar.txt\", sep=\" \")\n",
    "        dfPI_infoTemp['TempoChegada'] = tempo\n",
    "        dfPI_infoTemp['Seed'] = seed\n",
    "        dfPI_info = pd.concat([dfPI_info, dfPI_infoTemp], ignore_index=True)\n",
    "        dfSW_infoTemp = pd.read_csv(\"../Saidas/teste\"+(str(i))+\"_sw\"+(tempo)+\"/info_sw.txt\", sep=\" \")\n",
    "        dfSW_infoTemp['TempoChegada'] = tempo\n",
    "        dfSW_infoTemp['Seed'] = seed\n",
    "        dfSW_info = pd.concat([dfSW_info, dfSW_infoTemp], ignore_index=True)\n",
    "    i += 1\n",
    "dfPI_info.head()"
   ]
  },
  {
   "cell_type": "code",
   "execution_count": 13,
   "metadata": {},
   "outputs": [
    {
     "data": {
      "text/plain": [
       "526"
      ]
     },
     "execution_count": 13,
     "metadata": {},
     "output_type": "execute_result"
    }
   ],
   "source": [
    "#Grafico de bloqueados\n",
    "gpb = dfPI_info.groupby([\"Seed\", \"TempoChegada\"]).max()\n",
    "gpb.head()\n",
    "gpb.iloc[0][\"RegrasBloqueadas\"]"
   ]
  },
  {
   "cell_type": "code",
   "execution_count": null,
   "metadata": {},
   "outputs": [],
   "source": []
  }
 ],
 "metadata": {
  "kernelspec": {
   "display_name": "Python 2",
   "language": "python",
   "name": "python2"
  },
  "language_info": {
   "codemirror_mode": {
    "name": "ipython",
    "version": 2
   },
   "file_extension": ".py",
   "mimetype": "text/x-python",
   "name": "python",
   "nbconvert_exporter": "python",
   "pygments_lexer": "ipython2",
   "version": "2.7.15"
  }
 },
 "nbformat": 4,
 "nbformat_minor": 4
}
