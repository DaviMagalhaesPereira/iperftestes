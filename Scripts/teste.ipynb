{
 "cells": [
  {
   "cell_type": "code",
   "execution_count": 1,
   "metadata": {},
   "outputs": [],
   "source": [
    "import pandas as pd\n",
    "import scipy.stats as st\n",
    "import numpy as np\n",
    "import matplotlib.pyplot as plt\n",
    "import statsmodels.api as sm\n",
    "%matplotlib inline\n",
    "import seaborn as sns"
   ]
  },
  {
   "cell_type": "code",
   "execution_count": 2,
   "metadata": {},
   "outputs": [],
   "source": [
    "testesPI = [\"9\"]\n",
    "testesSW = [\"10\"]\n",
    "tempos = [\"015\", \"025\"]\n",
    "temposExp = [\"399\"]\n",
    "seeds = [\"10\", \"20\"]\n",
    "quantidadeIperfs = 2500\n",
    "salvarGraficos = False\n",
    "#0.15 ini=150 fim=250\n",
    "#0.25 ini=200 fim=550\n",
    "#0.35 ini=200 fim=800\n",
    "iniEstavel = 200\n",
    "fimEstavel = 550"
   ]
  },
  {
   "cell_type": "code",
   "execution_count": 3,
   "metadata": {},
   "outputs": [],
   "source": [
    "#Lendo os arquivos info (report do controlador)\n",
    "dfPI_info = pd.DataFrame()\n",
    "dfSW_info = pd.DataFrame()\n",
    "i = 1\n",
    "for seed in seeds:\n",
    "    for tempo in tempos:\n",
    "        dfPI_infoTemp = pd.read_csv(\"../Saidas/teste\"+(str(i))+\"_pi\"+(tempo)+\"/info_parimpar.txt\", sep=\" \")\n",
    "        dfPI_infoTemp['TempoChegada'] = tempo\n",
    "        dfPI_infoTemp['Seed'] = seed\n",
    "        dfPI_info = pd.concat([dfPI_info, dfPI_infoTemp], ignore_index=True)\n",
    "        dfSW_infoTemp = pd.read_csv(\"../Saidas/teste\"+(str(i))+\"_sw\"+(tempo)+\"/info_sw.txt\", sep=\" \")\n",
    "        dfSW_infoTemp['TempoChegada'] = tempo\n",
    "        dfSW_infoTemp['Seed'] = seed\n",
    "        dfSW_info = pd.concat([dfSW_info, dfSW_infoTemp], ignore_index=True)\n",
    "    i += 1\n",
    "#dfPI_info"
   ]
  },
  {
   "cell_type": "code",
   "execution_count": 4,
   "metadata": {},
   "outputs": [
    {
     "data": {
      "text/plain": [
       "<seaborn.axisgrid.FacetGrid at 0x7ff7d02c1860>"
      ]
     },
     "execution_count": 4,
     "metadata": {},
     "output_type": "execute_result"
    },
    {
     "data": {
      "image/png": "[encoded data removed]",
      "text/plain": [
       "<Figure size 360x360 with 1 Axes>"
      ]
     },
     "metadata": {},
     "output_type": "display_data"
    }
   ],
   "source": [
    "#Grafico de bloqueados metodo par impar\n",
    "gpb = dfPI_info.groupby([\"Seed\", \"TempoChegada\"]).max()\n",
    "gpb.reset_index(inplace=True)\n",
    "gpb[\"TaxaBloqueio\"] = gpb[\"RegrasBloqueadas\"]/2/float(quantidadeIperfs)*100\n",
    "sns.set_style(\"whitegrid\")\n",
    "sns.catplot(x=\"TempoChegada\", y=\"TaxaBloqueio\", kind=\"bar\", ci=95, data=gpb)"
   ]
  },
  {
   "cell_type": "code",
   "execution_count": null,
   "metadata": {},
   "outputs": [],
   "source": []
  }
 ],
 "metadata": {
  "kernelspec": {
   "display_name": "Python 3",
   "language": "python",
   "name": "python3"
  },
  "language_info": {
   "codemirror_mode": {
    "name": "ipython",
    "version": 3
   },
   "file_extension": ".py",
   "mimetype": "text/x-python",
   "name": "python",
   "nbconvert_exporter": "python",
   "pygments_lexer": "ipython3",
   "version": "3.7.3"
  }
 },
 "nbformat": 4,
 "nbformat_minor": 4
}
