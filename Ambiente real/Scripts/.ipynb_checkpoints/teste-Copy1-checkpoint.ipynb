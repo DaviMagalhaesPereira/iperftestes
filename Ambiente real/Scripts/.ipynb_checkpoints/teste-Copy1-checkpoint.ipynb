{
 "cells": [
  {
   "cell_type": "code",
   "execution_count": 1,
   "metadata": {},
   "outputs": [],
   "source": [
    "import pandas as pd\n",
    "import scipy.stats as st\n",
    "import numpy as np\n",
    "import matplotlib.pyplot as plt\n",
    "import statsmodels.api as sm\n",
    "%matplotlib inline\n",
    "import seaborn as sns"
   ]
  },
  {
   "cell_type": "code",
   "execution_count": 11,
   "metadata": {},
   "outputs": [
    {
     "name": "stdout",
     "output_type": "stream",
     "text": [
      "11059047233490\n",
      "19309089744\n"
     ]
    }
   ],
   "source": [
    "dfPI = pd.read_csv(\"../Saidas/teste1_pi015/info_parimpar.txt\", sep=\" \")\n",
    "dfSW = pd.read_csv(\"../Saidas/teste1_sw015/info_sw.txt\", sep=\" \")\n",
    "print (dfPI['BytesEnviados'].sum())\n",
    "print (dfSW['BytesEnviados'].sum())"
   ]
  },
  {
   "cell_type": "code",
   "execution_count": 7,
   "metadata": {},
   "outputs": [
    {
     "name": "stdout",
     "output_type": "stream",
     "text": [
      "32293418640\n",
      "35791439460\n"
     ]
    }
   ],
   "source": [
    "df2PI = pd.read_csv(\"../Saidas/teste1_pi015/teste1_pi015.csv\")\n",
    "df2SW = pd.read_csv(\"../Saidas/teste1_sw015/teste1_sw015.csv\")\n",
    "print (df2PI['BytesEnv'].sum())\n",
    "print (df2SW['BytesEnv'].sum())"
   ]
  },
  {
   "cell_type": "code",
   "execution_count": 9,
   "metadata": {},
   "outputs": [
    {
     "name": "stdout",
     "output_type": "stream",
     "text": [
      "167389030704\n"
     ]
    }
   ],
   "source": [
    "print (199.682.449.344-32.293.418.640)"
   ]
  },
  {
   "cell_type": "code",
   "execution_count": null,
   "metadata": {},
   "outputs": [],
   "source": []
  }
 ],
 "metadata": {
  "kernelspec": {
   "display_name": "Python 3",
   "language": "python",
   "name": "python3"
  },
  "language_info": {
   "codemirror_mode": {
    "name": "ipython",
    "version": 3
   },
   "file_extension": ".py",
   "mimetype": "text/x-python",
   "name": "python",
   "nbconvert_exporter": "python",
   "pygments_lexer": "ipython3",
   "version": "3.7.3"
  }
 },
 "nbformat": 4,
 "nbformat_minor": 4
}
