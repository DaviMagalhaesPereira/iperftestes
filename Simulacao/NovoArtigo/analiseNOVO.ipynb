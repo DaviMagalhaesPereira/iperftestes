{
 "cells": [
  {
   "cell_type": "code",
   "execution_count": 1,
   "metadata": {},
   "outputs": [
    {
     "name": "stderr",
     "output_type": "stream",
     "text": [
      "/home/joaovictor/.local/lib/python3.6/site-packages/statsmodels/tools/_testing.py:19: FutureWarning: pandas.util.testing is deprecated. Use the functions in the public API at pandas.testing instead.\n",
      "  import pandas.util.testing as tm\n"
     ]
    }
   ],
   "source": [
    "# Bibliotecas python\n",
    "import pandas as pd\n",
    "import numpy as np\n",
    "import matplotlib.pyplot as plt\n",
    "import seaborn as sns\n",
    "import glob\n",
    "import os\n",
    "import re\n",
    "%matplotlib inline\n",
    "\n",
    "# Função para calcular moda.\n",
    "from scipy import stats\n",
    "\n",
    "# Formatação dos gráficos\n",
    "from matplotlib.ticker import FuncFormatter\n",
    "from matplotlib.legend import Legend"
   ]
  },
  {
   "cell_type": "code",
   "execution_count": 2,
   "metadata": {},
   "outputs": [],
   "source": [
    "# Configurando o tema do gráfico\n",
    "myrcs = {\"axes.titleweight\": \"bold\", \"lines.markersize\": 9.0, \"lines.linewidth\": 2.0,}\n",
    "sns.set (style=\"whitegrid\", font_scale=1.25, rc=myrcs)\n",
    "\n",
    "# Linhas exibidas por padrão nos dataframes\n",
    "pd.options.display.min_rows = 20"
   ]
  },
  {
   "cell_type": "code",
   "execution_count": 3,
   "metadata": {},
   "outputs": [],
   "source": [
    "#Configurações\n",
    "# A - com switch HW, podendo aumentar/diminuir número de switches SW (número máximo de SW = 5)\n",
    "    #A2 - com switch HW, podendo aumentar/diminuir número de switches SW (número máximo de SW = 2)\n",
    "    #A3 - com switch HW, podendo aumentar/diminuir número de switches SW (número máximo de SW = 3)\n",
    "    #A4 - com switch HW, podendo aumentar/diminuir número de switches SW (número máximo de SW = 4)\n",
    "    \n",
    "# B - sem switch HW, podendo aumentar/diminuir número de switches SW (número máximo de SW = 5)\n",
    "\n",
    "# C - com switch HW, não podendo aumentar/diminuir número de switches SW (número de SW fixo em 1)\n",
    "\n",
    "# D - com switch HW, não podendo aumentar/diminuir número de switches SW (número de SW fixo em 5)\n",
    "\n",
    "#Renomear C->A1 e A->A5\n",
    "\n",
    "#Novos gráficos com média (intervalo estavel):\n",
    "#Uso médio de tabelas e CPU (para HW e SW)\n",
    "#Vazao total, bloqueio, atraso, número médio de switches, load drops\n",
    "#Eixo x -> maxSW por experimento\n",
    "#Eixo y -> valor\n",
    "#Hue -> cargas\n",
    "\n",
    "# Parâmetros que variam nesta simulação\n",
    "seeds = [1,2]\n",
    "cargas = [\"50hosts\", \"100hosts\", \"150hosts\"]\n",
    "experimentos = [\"a\",\"b\",\"c\",\"d\"]\n",
    "\n",
    "# Tempo total de simulação\n",
    "t_sim = 2000"
   ]
  },
  {
   "cell_type": "code",
   "execution_count": 4,
   "metadata": {},
   "outputs": [],
   "source": [
    "# Função para ler os arquivos de log\n",
    "def mymode (series):\n",
    "    return stats.mode (series)[0]\n",
    "\n",
    "agg_map = {'SwAtivosAntes' : mymode, 'SwAtivosDepois' : np.mean, 'AvgCPULoad' : np.mean}\n",
    "\n",
    "def read_dataframe ():\n",
    "    df_carga = []\n",
    "    for carga in cargas:\n",
    "        df_exp = []\n",
    "        for experimento in experimentos:\n",
    "            df_sed = []\n",
    "            for seed in seeds:\n",
    "                df = pd.read_csv (\"saidas/\"+carga+\"/seed\"+str(seed)+\"/\"+experimento+\"-\"+carga+\"-\"+str(seed)+\"-logDecisaoSwitchesSW.log\", sep='\\s+', index_col=[\"TimeSec\"])\n",
    "                df_sed.append (df)\n",
    "            #df_carga.append (pd.concat (df_sed).groupby ([\"TimeSec\"]).agg (agg_map))\n",
    "            df_exp.append(pd.concat (df_sed, keys=seeds))\n",
    "        df_carga.append (pd.concat (df_exp, keys=experimentos))\n",
    "    df_read = pd.concat (df_carga, keys=cargas, names=[\"Carga\",\"Experimento\",\"Seed\",\"TimeSec\"], copy=False)\n",
    "    return df_read"
   ]
  },
  {
   "cell_type": "code",
   "execution_count": 5,
   "metadata": {},
   "outputs": [
    {
     "ename": "FileNotFoundError",
     "evalue": "[Errno 2] No such file or directory: 'saidas/50hosts/seed1/a-50hosts-1-logDecisaoSwitchesSW.log'",
     "output_type": "error",
     "traceback": [
      "\u001b[0;31m---------------------------------------------------------------------------\u001b[0m",
      "\u001b[0;31mFileNotFoundError\u001b[0m                         Traceback (most recent call last)",
      "\u001b[0;32m<ipython-input-5-51390fe63c3a>\u001b[0m in \u001b[0;36m<module>\u001b[0;34m\u001b[0m\n\u001b[0;32m----> 1\u001b[0;31m \u001b[0mdf_plot\u001b[0m \u001b[0;34m=\u001b[0m \u001b[0mread_dataframe\u001b[0m\u001b[0;34m(\u001b[0m\u001b[0;34m)\u001b[0m\u001b[0;34m\u001b[0m\u001b[0;34m\u001b[0m\u001b[0m\n\u001b[0m\u001b[1;32m      2\u001b[0m \u001b[0mdf_plot\u001b[0m\u001b[0;34m\u001b[0m\u001b[0;34m\u001b[0m\u001b[0m\n",
      "\u001b[0;32m<ipython-input-4-a6832a6afd4c>\u001b[0m in \u001b[0;36mread_dataframe\u001b[0;34m()\u001b[0m\n\u001b[1;32m     12\u001b[0m             \u001b[0mdf_sed\u001b[0m \u001b[0;34m=\u001b[0m \u001b[0;34m[\u001b[0m\u001b[0;34m]\u001b[0m\u001b[0;34m\u001b[0m\u001b[0;34m\u001b[0m\u001b[0m\n\u001b[1;32m     13\u001b[0m             \u001b[0;32mfor\u001b[0m \u001b[0mseed\u001b[0m \u001b[0;32min\u001b[0m \u001b[0mseeds\u001b[0m\u001b[0;34m:\u001b[0m\u001b[0;34m\u001b[0m\u001b[0;34m\u001b[0m\u001b[0m\n\u001b[0;32m---> 14\u001b[0;31m                 \u001b[0mdf\u001b[0m \u001b[0;34m=\u001b[0m \u001b[0mpd\u001b[0m\u001b[0;34m.\u001b[0m\u001b[0mread_csv\u001b[0m \u001b[0;34m(\u001b[0m\u001b[0;34m\"saidas/\"\u001b[0m\u001b[0;34m+\u001b[0m\u001b[0mcarga\u001b[0m\u001b[0;34m+\u001b[0m\u001b[0;34m\"/seed\"\u001b[0m\u001b[0;34m+\u001b[0m\u001b[0mstr\u001b[0m\u001b[0;34m(\u001b[0m\u001b[0mseed\u001b[0m\u001b[0;34m)\u001b[0m\u001b[0;34m+\u001b[0m\u001b[0;34m\"/\"\u001b[0m\u001b[0;34m+\u001b[0m\u001b[0mexperimento\u001b[0m\u001b[0;34m+\u001b[0m\u001b[0;34m\"-\"\u001b[0m\u001b[0;34m+\u001b[0m\u001b[0mcarga\u001b[0m\u001b[0;34m+\u001b[0m\u001b[0;34m\"-\"\u001b[0m\u001b[0;34m+\u001b[0m\u001b[0mstr\u001b[0m\u001b[0;34m(\u001b[0m\u001b[0mseed\u001b[0m\u001b[0;34m)\u001b[0m\u001b[0;34m+\u001b[0m\u001b[0;34m\"-logDecisaoSwitchesSW.log\"\u001b[0m\u001b[0;34m,\u001b[0m \u001b[0msep\u001b[0m\u001b[0;34m=\u001b[0m\u001b[0;34m'\\s+'\u001b[0m\u001b[0;34m,\u001b[0m \u001b[0mindex_col\u001b[0m\u001b[0;34m=\u001b[0m\u001b[0;34m[\u001b[0m\u001b[0;34m\"TimeSec\"\u001b[0m\u001b[0;34m]\u001b[0m\u001b[0;34m)\u001b[0m\u001b[0;34m\u001b[0m\u001b[0;34m\u001b[0m\u001b[0m\n\u001b[0m\u001b[1;32m     15\u001b[0m                 \u001b[0mdf_sed\u001b[0m\u001b[0;34m.\u001b[0m\u001b[0mappend\u001b[0m \u001b[0;34m(\u001b[0m\u001b[0mdf\u001b[0m\u001b[0;34m)\u001b[0m\u001b[0;34m\u001b[0m\u001b[0;34m\u001b[0m\u001b[0m\n\u001b[1;32m     16\u001b[0m             \u001b[0;31m#df_carga.append (pd.concat (df_sed).groupby ([\"TimeSec\"]).agg (agg_map))\u001b[0m\u001b[0;34m\u001b[0m\u001b[0;34m\u001b[0m\u001b[0;34m\u001b[0m\u001b[0m\n",
      "\u001b[0;32m~/.local/lib/python3.6/site-packages/pandas/io/parsers.py\u001b[0m in \u001b[0;36mread_csv\u001b[0;34m(filepath_or_buffer, sep, delimiter, header, names, index_col, usecols, squeeze, prefix, mangle_dupe_cols, dtype, engine, converters, true_values, false_values, skipinitialspace, skiprows, skipfooter, nrows, na_values, keep_default_na, na_filter, verbose, skip_blank_lines, parse_dates, infer_datetime_format, keep_date_col, date_parser, dayfirst, cache_dates, iterator, chunksize, compression, thousands, decimal, lineterminator, quotechar, quoting, doublequote, escapechar, comment, encoding, dialect, error_bad_lines, warn_bad_lines, delim_whitespace, low_memory, memory_map, float_precision)\u001b[0m\n\u001b[1;32m    684\u001b[0m     )\n\u001b[1;32m    685\u001b[0m \u001b[0;34m\u001b[0m\u001b[0m\n\u001b[0;32m--> 686\u001b[0;31m     \u001b[0;32mreturn\u001b[0m \u001b[0m_read\u001b[0m\u001b[0;34m(\u001b[0m\u001b[0mfilepath_or_buffer\u001b[0m\u001b[0;34m,\u001b[0m \u001b[0mkwds\u001b[0m\u001b[0;34m)\u001b[0m\u001b[0;34m\u001b[0m\u001b[0;34m\u001b[0m\u001b[0m\n\u001b[0m\u001b[1;32m    687\u001b[0m \u001b[0;34m\u001b[0m\u001b[0m\n\u001b[1;32m    688\u001b[0m \u001b[0;34m\u001b[0m\u001b[0m\n",
      "\u001b[0;32m~/.local/lib/python3.6/site-packages/pandas/io/parsers.py\u001b[0m in \u001b[0;36m_read\u001b[0;34m(filepath_or_buffer, kwds)\u001b[0m\n\u001b[1;32m    450\u001b[0m \u001b[0;34m\u001b[0m\u001b[0m\n\u001b[1;32m    451\u001b[0m     \u001b[0;31m# Create the parser.\u001b[0m\u001b[0;34m\u001b[0m\u001b[0;34m\u001b[0m\u001b[0;34m\u001b[0m\u001b[0m\n\u001b[0;32m--> 452\u001b[0;31m     \u001b[0mparser\u001b[0m \u001b[0;34m=\u001b[0m \u001b[0mTextFileReader\u001b[0m\u001b[0;34m(\u001b[0m\u001b[0mfp_or_buf\u001b[0m\u001b[0;34m,\u001b[0m \u001b[0;34m**\u001b[0m\u001b[0mkwds\u001b[0m\u001b[0;34m)\u001b[0m\u001b[0;34m\u001b[0m\u001b[0;34m\u001b[0m\u001b[0m\n\u001b[0m\u001b[1;32m    453\u001b[0m \u001b[0;34m\u001b[0m\u001b[0m\n\u001b[1;32m    454\u001b[0m     \u001b[0;32mif\u001b[0m \u001b[0mchunksize\u001b[0m \u001b[0;32mor\u001b[0m \u001b[0miterator\u001b[0m\u001b[0;34m:\u001b[0m\u001b[0;34m\u001b[0m\u001b[0;34m\u001b[0m\u001b[0m\n",
      "\u001b[0;32m~/.local/lib/python3.6/site-packages/pandas/io/parsers.py\u001b[0m in \u001b[0;36m__init__\u001b[0;34m(self, f, engine, **kwds)\u001b[0m\n\u001b[1;32m    934\u001b[0m             \u001b[0mself\u001b[0m\u001b[0;34m.\u001b[0m\u001b[0moptions\u001b[0m\u001b[0;34m[\u001b[0m\u001b[0;34m\"has_index_names\"\u001b[0m\u001b[0;34m]\u001b[0m \u001b[0;34m=\u001b[0m \u001b[0mkwds\u001b[0m\u001b[0;34m[\u001b[0m\u001b[0;34m\"has_index_names\"\u001b[0m\u001b[0;34m]\u001b[0m\u001b[0;34m\u001b[0m\u001b[0;34m\u001b[0m\u001b[0m\n\u001b[1;32m    935\u001b[0m \u001b[0;34m\u001b[0m\u001b[0m\n\u001b[0;32m--> 936\u001b[0;31m         \u001b[0mself\u001b[0m\u001b[0;34m.\u001b[0m\u001b[0m_make_engine\u001b[0m\u001b[0;34m(\u001b[0m\u001b[0mself\u001b[0m\u001b[0;34m.\u001b[0m\u001b[0mengine\u001b[0m\u001b[0;34m)\u001b[0m\u001b[0;34m\u001b[0m\u001b[0;34m\u001b[0m\u001b[0m\n\u001b[0m\u001b[1;32m    937\u001b[0m \u001b[0;34m\u001b[0m\u001b[0m\n\u001b[1;32m    938\u001b[0m     \u001b[0;32mdef\u001b[0m \u001b[0mclose\u001b[0m\u001b[0;34m(\u001b[0m\u001b[0mself\u001b[0m\u001b[0;34m)\u001b[0m\u001b[0;34m:\u001b[0m\u001b[0;34m\u001b[0m\u001b[0;34m\u001b[0m\u001b[0m\n",
      "\u001b[0;32m~/.local/lib/python3.6/site-packages/pandas/io/parsers.py\u001b[0m in \u001b[0;36m_make_engine\u001b[0;34m(self, engine)\u001b[0m\n\u001b[1;32m   1166\u001b[0m     \u001b[0;32mdef\u001b[0m \u001b[0m_make_engine\u001b[0m\u001b[0;34m(\u001b[0m\u001b[0mself\u001b[0m\u001b[0;34m,\u001b[0m \u001b[0mengine\u001b[0m\u001b[0;34m=\u001b[0m\u001b[0;34m\"c\"\u001b[0m\u001b[0;34m)\u001b[0m\u001b[0;34m:\u001b[0m\u001b[0;34m\u001b[0m\u001b[0;34m\u001b[0m\u001b[0m\n\u001b[1;32m   1167\u001b[0m         \u001b[0;32mif\u001b[0m \u001b[0mengine\u001b[0m \u001b[0;34m==\u001b[0m \u001b[0;34m\"c\"\u001b[0m\u001b[0;34m:\u001b[0m\u001b[0;34m\u001b[0m\u001b[0;34m\u001b[0m\u001b[0m\n\u001b[0;32m-> 1168\u001b[0;31m             \u001b[0mself\u001b[0m\u001b[0;34m.\u001b[0m\u001b[0m_engine\u001b[0m \u001b[0;34m=\u001b[0m \u001b[0mCParserWrapper\u001b[0m\u001b[0;34m(\u001b[0m\u001b[0mself\u001b[0m\u001b[0;34m.\u001b[0m\u001b[0mf\u001b[0m\u001b[0;34m,\u001b[0m \u001b[0;34m**\u001b[0m\u001b[0mself\u001b[0m\u001b[0;34m.\u001b[0m\u001b[0moptions\u001b[0m\u001b[0;34m)\u001b[0m\u001b[0;34m\u001b[0m\u001b[0;34m\u001b[0m\u001b[0m\n\u001b[0m\u001b[1;32m   1169\u001b[0m         \u001b[0;32melse\u001b[0m\u001b[0;34m:\u001b[0m\u001b[0;34m\u001b[0m\u001b[0;34m\u001b[0m\u001b[0m\n\u001b[1;32m   1170\u001b[0m             \u001b[0;32mif\u001b[0m \u001b[0mengine\u001b[0m \u001b[0;34m==\u001b[0m \u001b[0;34m\"python\"\u001b[0m\u001b[0;34m:\u001b[0m\u001b[0;34m\u001b[0m\u001b[0;34m\u001b[0m\u001b[0m\n",
      "\u001b[0;32m~/.local/lib/python3.6/site-packages/pandas/io/parsers.py\u001b[0m in \u001b[0;36m__init__\u001b[0;34m(self, src, **kwds)\u001b[0m\n\u001b[1;32m   1996\u001b[0m         \u001b[0mkwds\u001b[0m\u001b[0;34m[\u001b[0m\u001b[0;34m\"usecols\"\u001b[0m\u001b[0;34m]\u001b[0m \u001b[0;34m=\u001b[0m \u001b[0mself\u001b[0m\u001b[0;34m.\u001b[0m\u001b[0musecols\u001b[0m\u001b[0;34m\u001b[0m\u001b[0;34m\u001b[0m\u001b[0m\n\u001b[1;32m   1997\u001b[0m \u001b[0;34m\u001b[0m\u001b[0m\n\u001b[0;32m-> 1998\u001b[0;31m         \u001b[0mself\u001b[0m\u001b[0;34m.\u001b[0m\u001b[0m_reader\u001b[0m \u001b[0;34m=\u001b[0m \u001b[0mparsers\u001b[0m\u001b[0;34m.\u001b[0m\u001b[0mTextReader\u001b[0m\u001b[0;34m(\u001b[0m\u001b[0msrc\u001b[0m\u001b[0;34m,\u001b[0m \u001b[0;34m**\u001b[0m\u001b[0mkwds\u001b[0m\u001b[0;34m)\u001b[0m\u001b[0;34m\u001b[0m\u001b[0;34m\u001b[0m\u001b[0m\n\u001b[0m\u001b[1;32m   1999\u001b[0m         \u001b[0mself\u001b[0m\u001b[0;34m.\u001b[0m\u001b[0munnamed_cols\u001b[0m \u001b[0;34m=\u001b[0m \u001b[0mself\u001b[0m\u001b[0;34m.\u001b[0m\u001b[0m_reader\u001b[0m\u001b[0;34m.\u001b[0m\u001b[0munnamed_cols\u001b[0m\u001b[0;34m\u001b[0m\u001b[0;34m\u001b[0m\u001b[0m\n\u001b[1;32m   2000\u001b[0m \u001b[0;34m\u001b[0m\u001b[0m\n",
      "\u001b[0;32mpandas/_libs/parsers.pyx\u001b[0m in \u001b[0;36mpandas._libs.parsers.TextReader.__cinit__\u001b[0;34m()\u001b[0m\n",
      "\u001b[0;32mpandas/_libs/parsers.pyx\u001b[0m in \u001b[0;36mpandas._libs.parsers.TextReader._setup_parser_source\u001b[0;34m()\u001b[0m\n",
      "\u001b[0;31mFileNotFoundError\u001b[0m: [Errno 2] No such file or directory: 'saidas/50hosts/seed1/a-50hosts-1-logDecisaoSwitchesSW.log'"
     ]
    }
   ],
   "source": [
    "df_plot = read_dataframe()\n",
    "df_plot"
   ]
  },
  {
   "cell_type": "code",
   "execution_count": null,
   "metadata": {},
   "outputs": [],
   "source": [
    "df_teste = df_plot.query(\"TimeSec > 200 and TimeSec < 400\").groupby([\"Carga\", \"Experimento\", \"Seed\"]).mean()\n",
    "df_teste.reset_index(inplace=True)\n",
    "df_teste.replace({\"Experimento\":{\"a\":1,\"b\":2,\"c\":3,\"d\":4}}, inplace=True)\n",
    "df_teste"
   ]
  },
  {
   "cell_type": "code",
   "execution_count": null,
   "metadata": {},
   "outputs": [],
   "source": [
    "snsplt = sns.relplot(x=\"Experimento\", y=\"AvgCPULoad\",\n",
    "            hue=\"Carga\",\n",
    "            kind=\"line\", legend=\"full\", data=df_teste, ci=95, style=\"Carga\", markers=True)\n",
    "snsplt.fig.suptitle('Uso do switch', y=1.05)\n",
    "#snsplt.set(xlim=(0,1000))"
   ]
  },
  {
   "cell_type": "code",
   "execution_count": null,
   "metadata": {},
   "outputs": [],
   "source": [
    "df_hw = []\n",
    "agg_maphw = {'LoaUsag' : np.mean, 'FloUsag' : np.mean, 'FloEntr' : np.mean,'LoaKbps' : mymode}\n",
    "for carga in cargas:\n",
    "    df_sed = []\n",
    "    for seed in seeds:\n",
    "        df = pd.read_csv (\"saidas/\"+carga+\"/seed\"+str(seed)+\"/\"+experimento+\"-\"+carga+\"-\"+str(seed)+\"-switch-stats-hw.log\", sep='\\s+', index_col=[\"TimeSec\"])\n",
    "        df_sed.append (df)\n",
    "    df_hw.append (pd.concat (df_sed).groupby ([\"TimeSec\"]).agg (agg_maphw))\n",
    "df_hwstats = pd.concat (df_hw, keys=cargas, names=[\"Carga\"], copy=False)\n",
    "df_hwstats = df_hwstats.reset_index ()"
   ]
  },
  {
   "cell_type": "code",
   "execution_count": null,
   "metadata": {},
   "outputs": [],
   "source": [
    "# Criando a figura com seus gráficos e eixo x compartilhado\n",
    "fig = plt.figure (figsize=(10, 9), constrained_layout=True)\n",
    "spec = fig.add_gridspec(ncols=1, nrows=3, height_ratios=[1, 1, 1])\n",
    "ax_tab = fig.add_subplot(spec[2])\n",
    "ax_cpu = fig.add_subplot(spec[1], sharex=ax_tab)\n",
    "ax_tft = fig.add_subplot(spec[0], sharex=ax_tab)\n",
    "\n",
    "df_50 = df_hwstats.query (\"Carga == '50hosts'\")\n",
    "df_100 = df_hwstats.query (\"Carga == '100hosts'\")\n",
    "df_150 = df_hwstats.query (\"Carga == '150hosts'\")\n",
    "\n",
    "# Linha para o uso de CPU de cada carga\n",
    "ax_tft.plot (\"TimeSec\", \"LoaUsag\", \":\",  data=df_50, color=\"#b30000\", label=\"50 hosts\", linewidth=2.5)\n",
    "ax_tft.plot (\"TimeSec\", \"LoaUsag\", \"-\",  data=df_100, color=\"#00b33c\", label=\"100 hosts\")\n",
    "ax_tft.plot (\"TimeSec\", \"LoaUsag\", \"-.\", data=df_150, color=\"#003cb3\", label=\"150 hosts\")\n",
    "\n",
    "  \n",
    "# Linha para o uso de tabela de cada carga\n",
    "ax_cpu.plot (\"TimeSec\", \"FloUsag\", \":\",  data=df_50, color=\"#b30000\", label=\"50 hosts\", linewidth=2.5)\n",
    "ax_cpu.plot (\"TimeSec\", \"FloUsag\", \"-\",  data=df_100, color=\"#00b33c\", label=\"100 hosts\")\n",
    "ax_cpu.plot (\"TimeSec\", \"FloUsag\", \"-.\", data=df_150, color=\"#003cb3\", label=\"150 hosts\")\n",
    "\n",
    "\n",
    "\n",
    "# Thresholds de uso de tabela\n",
    "ax_cpu.axhspan (ymin=30, ymax=90, color='gray', alpha=0.1)\n",
    "ax_cpu.axhline (y=30, color=\"#666666\", lw=1, ls=\"--\")\n",
    "ax_cpu.axhline (y=90, color=\"#666666\", lw=1, ls=\"--\")\n",
    "\n",
    "# Linha para o numero de regras de cada carga\n",
    "ax_tab.plot (\"TimeSec\", \"FloEntr\", \":\",  data=df_50, color=\"#b30000\", label=\"50 hosts\", linewidth=2.5)\n",
    "ax_tab.plot (\"TimeSec\", \"FloEntr\", \"-\",  data=df_100, color=\"#00b33c\", label=\"100 hosts\")\n",
    "ax_tab.plot (\"TimeSec\", \"FloEntr\", \"-.\", data=df_150, color=\"#003cb3\", label=\"150 hosts\")\n",
    "\n",
    "\n",
    "# Thresholds de uso de tabela\n",
    "ax_tab.axhspan (ymin=30, ymax=90, color='gray', alpha=0.1)\n",
    "ax_tab.axhline (y=30, color=\"#666666\", lw=1, ls=\"--\")\n",
    "ax_tab.axhline (y=90, color=\"#666666\", lw=1, ls=\"--\")\n",
    "    \n",
    "# Ajuste do eixo y\n",
    "ax_tft.set_ylabel (\"CPU usage (%)\", )\n",
    "ax_cpu.set_ylabel (\"Table usage (%)\")\n",
    "ax_tab.set_ylabel (\"Rules\")\n",
    "# ax_tft.set_ylim (0.8, 4.2)\n",
    "# ax_tft.set_ylim (0.9, 4.1)\n",
    "# ax_cpu.set_ylim (0, 100)\n",
    "# ax_tab.set_ylim (0, 100)\n",
    "# ax_tft.set_yticks ([1, 2, 3, 4])\n",
    "# ax_tft.set_yticklabels ([\"1\", \"2\", \"\", \"4\"])\n",
    "# ax_cpu.set_yticks (range (0, 101, 25))\n",
    "# ax_tab.set_yticks (range (0, 101, 25))\n",
    "\n",
    "# Ajuste do eixo x\n",
    "ax_tab.set_xlabel (\"Simulation time (s)\")\n",
    "ax_tft.tick_params (labelbottom=False)\n",
    "ax_cpu.tick_params (labelbottom=False)\n",
    "ax_tab.set_xticks (np.arange(0, t_sim + 1, 100))\n",
    "ax_tab.set_xlim (0, t_sim)\n",
    "\n",
    "# Legendas\n",
    "order = [0, 1, 2]\n",
    "handles, labels = ax_tft.get_legend_handles_labels()\n",
    "ax_tft.legend([handles[idx] for idx in order],[labels[idx] for idx in order], loc='upper right')\n",
    "   \n",
    "# Finalizando e retornando a figura\n",
    "plt.show ()"
   ]
  },
  {
   "cell_type": "code",
   "execution_count": null,
   "metadata": {},
   "outputs": [],
   "source": [
    "snsplt = sns.relplot(x=\"TimeSec\", y=\"AvgCPULoad\",\n",
    "            hue=\"Carga\",\n",
    "            kind=\"line\", legend=\"full\", data=df_plot, ci=None)\n",
    "snsplt.fig.suptitle('Uso do switch', y=1.05)\n",
    "snsplt.set(xlim=(0,1000))"
   ]
  },
  {
   "cell_type": "code",
   "execution_count": null,
   "metadata": {},
   "outputs": [],
   "source": [
    "snsplt = sns.relplot(x=\"TimeSec\", y=\"SwAtivosDepois\",\n",
    "            hue=\"Carga\",\n",
    "            kind=\"line\", legend=\"full\", data=df_plot, ci=None)\n",
    "snsplt.fig.suptitle('Switches ativos', y=1.05)\n",
    "snsplt.set(xlim=(0,1000))"
   ]
  },
  {
   "cell_type": "code",
   "execution_count": null,
   "metadata": {},
   "outputs": [],
   "source": [
    "snsplt = sns.relplot(x=\"TimeSec\", y=\"LoaKbps\",\n",
    "            hue=\"Carga\",\n",
    "            kind=\"line\", legend=\"full\", data=df_hwstats, ci=None, aspect=3)\n",
    "snsplt.fig.suptitle('Vazao no switch HW', y=1.05)\n",
    "snsplt.set(xlim=(0,1500))"
   ]
  },
  {
   "cell_type": "code",
   "execution_count": null,
   "metadata": {},
   "outputs": [],
   "source": [
    "#Lendo os arquivos de ping\n",
    "df_ping = []\n",
    "agg_mapping = {'time' : np.mean}\n",
    "for carga in cargas:\n",
    "    df_sed = []\n",
    "    for seed in seeds:\n",
    "        df = pd.read_csv (\"saidas/\"+carga+\"/seed\"+str(seed)+\"/\"+experimento+\"-\"+carga+\"-\"+str(seed)+\"-pingHW.log\", sep='\\s+', index_col=[\"seq\"])\n",
    "        df['Switch'] = \"HW\"\n",
    "        df_sed.append (df)\n",
    "        df = pd.read_csv (\"saidas/\"+carga+\"/seed\"+str(seed)+\"/\"+experimento+\"-\"+carga+\"-\"+str(seed)+\"-pingSW.log\", sep='\\s+', index_col=[\"seq\"])\n",
    "        df['Switch'] = \"SW\"\n",
    "        df_sed.append (df)\n",
    "    df_ping.append (pd.concat (df_sed).groupby ([\"seq\", \"Switch\"]).agg (agg_mapping))\n",
    "df_pingstats = pd.concat (df_ping, keys=cargas, names=[\"Carga\"], copy=False)\n",
    "df_pingstats = df_pingstats.reset_index ()\n",
    "# df_pingstats"
   ]
  },
  {
   "cell_type": "code",
   "execution_count": null,
   "metadata": {},
   "outputs": [],
   "source": [
    "snsplt = sns.relplot(x=\"seq\", y=\"time\",\n",
    "           hue=\"Switch\", col=\"Carga\",\n",
    "           kind=\"line\", legend=\"full\", data=df_pingstats, ci=None)\n",
    "snsplt.fig.suptitle('Ping', y=1.05)\n",
    "snsplt.set(xlim=(200,400))"
   ]
  },
  {
   "cell_type": "code",
   "execution_count": null,
   "metadata": {},
   "outputs": [],
   "source": [
    "df_sw = []\n",
    "agg_mapsw = {'LoaUsag' : np.mean, 'FloUsag' : np.mean, 'FloEntr' : np.mean,'Packets' : mymode, 'LoaDrps' : mymode}\n",
    "for carga in cargas:\n",
    "    df_sed = []\n",
    "    for seed in seeds:\n",
    "        df = pd.read_csv (\"saidas/\"+carga+\"/seed\"+str(seed)+\"/\"+experimento+\"-\"+carga+\"-\"+str(seed)+\"-switch-stats-sw1.log\", sep='\\s+', index_col=[\"TimeSec\"])\n",
    "        df_sed.append (df)\n",
    "    df_sw.append (pd.concat (df_sed).groupby ([\"TimeSec\"]).agg (agg_mapsw))\n",
    "df_swstats = pd.concat (df_sw, keys=cargas, names=[\"Carga\"], copy=False)\n",
    "df_swstats = df_swstats.reset_index ()\n",
    "df_swstats[\"%drop\"] = df_swstats[\"LoaDrps\"]/(df_swstats[\"Packets\"]+df_swstats[\"LoaDrps\"])\n",
    "df_swstats"
   ]
  },
  {
   "cell_type": "code",
   "execution_count": null,
   "metadata": {},
   "outputs": [],
   "source": [
    "snsplt = sns.relplot(x=\"TimeSec\", y=\"%drop\",\n",
    "            hue=\"Carga\",\n",
    "            kind=\"line\", legend=\"full\", data=df_swstats, ci=None)\n",
    "snsplt.fig.suptitle('Load drops SW', y=1.05)\n",
    "snsplt.set(xlim=(0,600))"
   ]
  },
  {
   "cell_type": "code",
   "execution_count": null,
   "metadata": {},
   "outputs": [],
   "source": [
    "experimentos = [\"a\", \"b\",\"c\",\"d\"]"
   ]
  },
  {
   "cell_type": "code",
   "execution_count": null,
   "metadata": {},
   "outputs": [],
   "source": [
    "df_bloq = []\n",
    "agg_mapbloq = {'RegrasAceitas' : np.mean, 'RegrasBloqueadas' : np.mean}\n",
    "for carga in cargas:\n",
    "    df_sed = []\n",
    "    for seed in seeds:\n",
    "            df = pd.read_csv (\"saidas/\"+carga+\"/seed\"+str(seed)+\"/\"+experimento+\"-\"+carga+\"-\"+str(seed)+\"-statistics.log\", sep='\\s+', index_col=[\"TimeSec\"])\n",
    "            df_sed.append (df)\n",
    "    df_bloq.append (pd.concat (df_sed).groupby ([\"TimeSec\"]).agg (agg_mapbloq))\n",
    "df_bloqstats = pd.concat (df_bloq, keys=cargas, names=[\"Carga\"], copy=False)\n",
    "df_bloqstats = df_bloqstats.reset_index ()\n",
    "df_bloqstats[\"%block\"] = df_bloqstats[\"RegrasBloqueadas\"]/(df_bloqstats[\"RegrasAceitas\"]+df_bloqstats[\"RegrasBloqueadas\"])\n",
    "df_bloqstats"
   ]
  },
  {
   "cell_type": "code",
   "execution_count": null,
   "metadata": {},
   "outputs": [],
   "source": [
    "snsplt = sns.relplot(x=\"TimeSec\", y=\"%block\",\n",
    "            hue=\"Carga\",\n",
    "            kind=\"line\", legend=\"full\", data=df_bloqstats, ci=None)\n",
    "snsplt.fig.suptitle('Bloqueados', y=1.05)\n",
    "snsplt.set(xlim=(100,150))"
   ]
  },
  {
   "cell_type": "code",
   "execution_count": null,
   "metadata": {},
   "outputs": [],
   "source": []
  }
 ],
 "metadata": {
  "kernelspec": {
   "display_name": "Python 3",
   "language": "python",
   "name": "python3"
  },
  "language_info": {
   "codemirror_mode": {
    "name": "ipython",
    "version": 3
   },
   "file_extension": ".py",
   "mimetype": "text/x-python",
   "name": "python",
   "nbconvert_exporter": "python",
   "pygments_lexer": "ipython3",
   "version": "3.6.9"
  }
 },
 "nbformat": 4,
 "nbformat_minor": 4
}
